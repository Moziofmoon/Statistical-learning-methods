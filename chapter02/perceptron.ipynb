{
 "cells": [
  {
   "cell_type": "markdown",
   "metadata": {},
   "source": [
    "### 二分类模型\n",
    "$f(x) = sign(w\\cdot x + b)$\n",
    "\n",
    "$\\operatorname{sign}(x)=\\left\\{\\begin{array}{ll}{+1,} & {x \\geqslant 0} \\\\ {-1,} & {x<0}\\end{array}\\right.$\n",
    "\n",
    "给定训练集：\n",
    "\n",
    "$T=\\left\\{\\left(x_{1}, y_{1}\\right),\\left(x_{2}, y_{2}\\right), \\cdots,\\left(x_{N}, y_{N}\\right)\\right\\}$\n",
    "\n",
    "定义感知机的损失函数 \n",
    "\n",
    "$L(w, b)=-\\sum_{x_{i} \\in M} y_{i}\\left(w \\cdot x_{i}+b\\right)$"
   ]
  },
  {
   "cell_type": "markdown",
   "metadata": {},
   "source": [
    "![image-20200303103035121](img\\image-20200303103035121.png)"
   ]
  },
  {
   "cell_type": "code",
   "execution_count": 1,
   "metadata": {},
   "outputs": [],
   "source": [
    "import pandas as pd\n",
    "import numpy as np\n",
    "from sklearn.datasets import load_iris\n",
    "import matplotlib.pyplot as plt\n",
    "%matplotlib inline\n",
    "import logging"
   ]
  },
  {
   "cell_type": "code",
   "execution_count": 2,
   "metadata": {},
   "outputs": [],
   "source": [
    "# load data\n",
    "iris = load_iris()\n",
    "df = pd.DataFrame(iris.data, columns=iris.feature_names)\n",
    "df['label'] = iris.target"
   ]
  },
  {
   "cell_type": "code",
   "execution_count": 3,
   "metadata": {},
   "outputs": [
    {
     "data": {
      "text/plain": [
       "2    50\n",
       "1    50\n",
       "0    50\n",
       "Name: label, dtype: int64"
      ]
     },
     "execution_count": 3,
     "metadata": {},
     "output_type": "execute_result"
    }
   ],
   "source": [
    "df.columns = [\n",
    "    'sepal length', 'sepal width', 'petal length', 'petal width', 'label'\n",
    "]\n",
    "df.label.value_counts()"
   ]
  },
  {
   "cell_type": "code",
   "execution_count": 4,
   "metadata": {},
   "outputs": [
    {
     "data": {
      "text/html": [
       "<div>\n",
       "<style scoped>\n",
       "    .dataframe tbody tr th:only-of-type {\n",
       "        vertical-align: middle;\n",
       "    }\n",
       "\n",
       "    .dataframe tbody tr th {\n",
       "        vertical-align: top;\n",
       "    }\n",
       "\n",
       "    .dataframe thead th {\n",
       "        text-align: right;\n",
       "    }\n",
       "</style>\n",
       "<table border=\"1\" class=\"dataframe\">\n",
       "  <thead>\n",
       "    <tr style=\"text-align: right;\">\n",
       "      <th></th>\n",
       "      <th>sepal length</th>\n",
       "      <th>sepal width</th>\n",
       "      <th>petal length</th>\n",
       "      <th>petal width</th>\n",
       "      <th>label</th>\n",
       "    </tr>\n",
       "  </thead>\n",
       "  <tbody>\n",
       "    <tr>\n",
       "      <th>0</th>\n",
       "      <td>5.1</td>\n",
       "      <td>3.5</td>\n",
       "      <td>1.4</td>\n",
       "      <td>0.2</td>\n",
       "      <td>0</td>\n",
       "    </tr>\n",
       "    <tr>\n",
       "      <th>1</th>\n",
       "      <td>4.9</td>\n",
       "      <td>3.0</td>\n",
       "      <td>1.4</td>\n",
       "      <td>0.2</td>\n",
       "      <td>0</td>\n",
       "    </tr>\n",
       "    <tr>\n",
       "      <th>2</th>\n",
       "      <td>4.7</td>\n",
       "      <td>3.2</td>\n",
       "      <td>1.3</td>\n",
       "      <td>0.2</td>\n",
       "      <td>0</td>\n",
       "    </tr>\n",
       "    <tr>\n",
       "      <th>3</th>\n",
       "      <td>4.6</td>\n",
       "      <td>3.1</td>\n",
       "      <td>1.5</td>\n",
       "      <td>0.2</td>\n",
       "      <td>0</td>\n",
       "    </tr>\n",
       "    <tr>\n",
       "      <th>4</th>\n",
       "      <td>5.0</td>\n",
       "      <td>3.6</td>\n",
       "      <td>1.4</td>\n",
       "      <td>0.2</td>\n",
       "      <td>0</td>\n",
       "    </tr>\n",
       "    <tr>\n",
       "      <th>...</th>\n",
       "      <td>...</td>\n",
       "      <td>...</td>\n",
       "      <td>...</td>\n",
       "      <td>...</td>\n",
       "      <td>...</td>\n",
       "    </tr>\n",
       "    <tr>\n",
       "      <th>145</th>\n",
       "      <td>6.7</td>\n",
       "      <td>3.0</td>\n",
       "      <td>5.2</td>\n",
       "      <td>2.3</td>\n",
       "      <td>2</td>\n",
       "    </tr>\n",
       "    <tr>\n",
       "      <th>146</th>\n",
       "      <td>6.3</td>\n",
       "      <td>2.5</td>\n",
       "      <td>5.0</td>\n",
       "      <td>1.9</td>\n",
       "      <td>2</td>\n",
       "    </tr>\n",
       "    <tr>\n",
       "      <th>147</th>\n",
       "      <td>6.5</td>\n",
       "      <td>3.0</td>\n",
       "      <td>5.2</td>\n",
       "      <td>2.0</td>\n",
       "      <td>2</td>\n",
       "    </tr>\n",
       "    <tr>\n",
       "      <th>148</th>\n",
       "      <td>6.2</td>\n",
       "      <td>3.4</td>\n",
       "      <td>5.4</td>\n",
       "      <td>2.3</td>\n",
       "      <td>2</td>\n",
       "    </tr>\n",
       "    <tr>\n",
       "      <th>149</th>\n",
       "      <td>5.9</td>\n",
       "      <td>3.0</td>\n",
       "      <td>5.1</td>\n",
       "      <td>1.8</td>\n",
       "      <td>2</td>\n",
       "    </tr>\n",
       "  </tbody>\n",
       "</table>\n",
       "<p>150 rows × 5 columns</p>\n",
       "</div>"
      ],
      "text/plain": [
       "     sepal length  sepal width  petal length  petal width  label\n",
       "0             5.1          3.5           1.4          0.2      0\n",
       "1             4.9          3.0           1.4          0.2      0\n",
       "2             4.7          3.2           1.3          0.2      0\n",
       "3             4.6          3.1           1.5          0.2      0\n",
       "4             5.0          3.6           1.4          0.2      0\n",
       "..            ...          ...           ...          ...    ...\n",
       "145           6.7          3.0           5.2          2.3      2\n",
       "146           6.3          2.5           5.0          1.9      2\n",
       "147           6.5          3.0           5.2          2.0      2\n",
       "148           6.2          3.4           5.4          2.3      2\n",
       "149           5.9          3.0           5.1          1.8      2\n",
       "\n",
       "[150 rows x 5 columns]"
      ]
     },
     "execution_count": 4,
     "metadata": {},
     "output_type": "execute_result"
    }
   ],
   "source": [
    "df"
   ]
  },
  {
   "cell_type": "code",
   "execution_count": 5,
   "metadata": {},
   "outputs": [
    {
     "data": {
      "text/plain": [
       "<matplotlib.legend.Legend at 0x2773b611cc8>"
      ]
     },
     "execution_count": 5,
     "metadata": {},
     "output_type": "execute_result"
    },
    {
     "data": {
      "image/png": "[encoded data removed]",
      "text/plain": [
       "<Figure size 432x288 with 1 Axes>"
      ]
     },
     "metadata": {
      "needs_background": "light"
     },
     "output_type": "display_data"
    }
   ],
   "source": [
    "plt.scatter(df[:50]['sepal length'], df[:50]['sepal width'], label='0')\n",
    "plt.scatter(df[50:100]['sepal length'], df[50:100]['sepal width'], label='1')\n",
    "plt.xlabel('sepal length')\n",
    "plt.ylabel('sepal width')\n",
    "plt.legend()"
   ]
  },
  {
   "cell_type": "code",
   "execution_count": 10,
   "metadata": {},
   "outputs": [],
   "source": [
    "data = np.array(df.iloc[:100, [0, 1, -1]])"
   ]
  },
  {
   "cell_type": "code",
   "execution_count": 11,
   "metadata": {},
   "outputs": [],
   "source": [
    "X, y = data[:,:-1], data[:,-1]\n",
    "y = np.array([1 if i == 1 else -1 for i in y])"
   ]
  },
  {
   "cell_type": "code",
   "execution_count": 35,
   "metadata": {},
   "outputs": [],
   "source": [
    "class Percerptron(object):\n",
    "    def __init__(self,\n",
    "                 data,\n",
    "                max_iter = 1000):\n",
    "        self.w = np.ones(len(data[0]) - 1, dtype=np.float32)\n",
    "        self.b = 0\n",
    "        self.lr = 0.1\n",
    "        self.max_iter = max_iter\n",
    "        \n",
    "    def sign(self, x, w, b):\n",
    "        y = np.dot(w, x) + b\n",
    "        return y\n",
    "    \n",
    "    def fit(self, X_train, y_train):\n",
    "        is_wrong = False\n",
    "        n_iter = 0\n",
    "        while not is_wrong:\n",
    "            wrong_count = 0\n",
    "            n_iter += 1\n",
    "            for i in range(len(X_train)):\n",
    "                X = X_train[i]\n",
    "                y = y_train[i]\n",
    "                if y * self.sign(X, self.w, self.b) <= 0:\n",
    "                    self.w = self.w + self.lr * np.dot(y, X)\n",
    "                    self.b = self.b + self.lr * y\n",
    "                    wrong_count += 1\n",
    "            if not n_iter % 10: \n",
    "                print(\"w:{}\\tb:{:.2}\\titer:{}\\twrong_count:{}\".format(self.w, self.b, n_iter,wrong_count))\n",
    "            if not wrong_count:\n",
    "                is_wrong = True\n",
    "    def score(self):\n",
    "        pass\n",
    "            \n",
    "            "
   ]
  },
  {
   "cell_type": "code",
   "execution_count": 36,
   "metadata": {},
   "outputs": [
    {
     "name": "stdout",
     "output_type": "stream",
     "text": [
      "w:[ 0.95 -0.52]\tb:-0.4\titer:10\twrong_count:2\n",
      "w:[ 1.29 -1.52]\tb:-0.7\titer:20\twrong_count:3\n",
      "w:[ 2.04 -2.24]\tb:-0.8999999999999999\titer:30\twrong_count:2\n",
      "w:[ 2.46 -2.98]\tb:-1.0999999999999999\titer:40\twrong_count:2\n",
      "w:[ 2.84 -3.67]\tb:-1.3\titer:50\twrong_count:2\n",
      "w:[ 3.17 -4.16]\tb:-1.5000000000000002\titer:60\twrong_count:2\n",
      "w:[ 3.47 -4.53]\tb:-1.8000000000000005\titer:70\twrong_count:2\n",
      "w:[ 3.68 -4.91]\tb:-2.0000000000000004\titer:80\twrong_count:2\n",
      "w:[ 3.63 -5.41]\tb:-2.3000000000000007\titer:90\twrong_count:3\n",
      "w:[ 4.02 -5.62]\tb:-2.400000000000001\titer:100\twrong_count:2\n",
      "w:[ 4.29 -5.92]\tb:-2.500000000000001\titer:110\twrong_count:2\n",
      "w:[ 4.36 -6.18]\tb:-2.800000000000001\titer:120\twrong_count:2\n",
      "w:[ 4.34 -6.6 ]\tb:-3.0000000000000013\titer:130\twrong_count:3\n",
      "w:[ 4.72 -6.71]\tb:-3.1000000000000014\titer:140\twrong_count:2\n",
      "w:[ 4.64 -7.16]\tb:-3.2000000000000015\titer:150\twrong_count:3\n",
      "w:[ 5.06 -7.27]\tb:-3.2000000000000015\titer:160\twrong_count:2\n",
      "w:[ 5.2  -7.53]\tb:-3.3000000000000016\titer:170\twrong_count:2\n",
      "w:[ 5.42 -7.69]\tb:-3.4000000000000017\titer:180\twrong_count:2\n",
      "w:[ 5.52 -7.82]\tb:-3.600000000000002\titer:190\twrong_count:2\n",
      "w:[ 5.5  -7.93]\tb:-3.9000000000000017\titer:200\twrong_count:2\n",
      "w:[ 5.69 -7.96]\tb:-4.100000000000001\titer:210\twrong_count:2\n",
      "w:[ 5.67 -8.07]\tb:-4.4\titer:220\twrong_count:2\n",
      "w:[ 5.73 -8.13]\tb:-4.699999999999999\titer:230\twrong_count:2\n",
      "w:[ 5.67 -8.25]\tb:-4.999999999999998\titer:240\twrong_count:3\n",
      "w:[ 5.71 -8.35]\tb:-5.299999999999997\titer:250\twrong_count:3\n",
      "w:[ 6.11 -8.2 ]\tb:-5.4999999999999964\titer:260\twrong_count:2\n",
      "w:[ 6.03 -8.35]\tb:-5.799999999999995\titer:270\twrong_count:2\n",
      "w:[ 6.28 -8.3 ]\tb:-5.999999999999995\titer:280\twrong_count:2\n",
      "w:[ 6.05 -8.59]\tb:-6.299999999999994\titer:290\twrong_count:3\n",
      "w:[ 6.31 -8.57]\tb:-6.499999999999993\titer:300\twrong_count:2\n",
      "w:[ 6.5  -8.58]\tb:-6.699999999999992\titer:310\twrong_count:2\n",
      "w:[ 6.62 -8.66]\tb:-6.8999999999999915\titer:320\twrong_count:2\n",
      "w:[ 6.75 -8.67]\tb:-7.099999999999991\titer:330\twrong_count:2\n",
      "w:[ 6.8  -8.68]\tb:-7.29999999999999\titer:340\twrong_count:2\n",
      "w:[ 6.77 -8.77]\tb:-7.499999999999989\titer:350\twrong_count:2\n",
      "w:[ 6.69 -8.96]\tb:-7.699999999999989\titer:360\twrong_count:2\n",
      "w:[ 6.69 -8.92]\tb:-7.899999999999988\titer:370\twrong_count:2\n",
      "w:[ 6.71 -8.88]\tb:-8.099999999999987\titer:380\twrong_count:2\n",
      "w:[ 6.73 -8.84]\tb:-8.299999999999986\titer:390\twrong_count:2\n",
      "w:[ 6.73 -8.8 ]\tb:-8.499999999999986\titer:400\twrong_count:2\n",
      "w:[ 6.75 -8.76]\tb:-8.699999999999985\titer:410\twrong_count:2\n",
      "w:[ 7.06 -8.6 ]\tb:-8.799999999999985\titer:420\twrong_count:2\n",
      "w:[ 6.99 -8.67]\tb:-8.999999999999984\titer:430\twrong_count:2\n",
      "w:[ 6.95 -8.7 ]\tb:-9.199999999999983\titer:440\twrong_count:2\n",
      "w:[ 7.16 -8.65]\tb:-9.299999999999983\titer:450\twrong_count:2\n",
      "w:[ 6.92 -8.94]\tb:-9.499999999999982\titer:460\twrong_count:3\n",
      "w:[ 7.24 -8.77]\tb:-9.599999999999982\titer:470\twrong_count:2\n",
      "w:[ 7.36 -8.83]\tb:-9.699999999999982\titer:480\twrong_count:2\n",
      "w:[ 7.15 -9.05]\tb:-9.89999999999998\titer:490\twrong_count:2\n",
      "w:[ 7.44 -8.89]\tb:-9.99999999999998\titer:500\twrong_count:2\n",
      "w:[ 7.52 -8.99]\tb:-10.09999999999998\titer:510\twrong_count:2\n",
      "w:[ 7.38 -9.13]\tb:-10.29999999999998\titer:520\twrong_count:2\n",
      "w:[ 7.6  -9.05]\tb:-10.399999999999979\titer:530\twrong_count:2\n",
      "w:[ 7.36 -9.31]\tb:-10.599999999999978\titer:540\twrong_count:3\n",
      "w:[ 7.72 -9.07]\tb:-10.699999999999978\titer:550\twrong_count:2\n",
      "w:[ 7.8  -9.17]\tb:-10.799999999999978\titer:560\twrong_count:2\n",
      "w:[ 7.64 -9.47]\tb:-10.899999999999977\titer:570\twrong_count:2\n",
      "w:[ 7.63 -9.59]\tb:-10.999999999999977\titer:580\twrong_count:2\n",
      "w:[ 7.69 -9.63]\tb:-11.099999999999977\titer:590\twrong_count:2\n",
      "w:[ 7.78 -9.63]\tb:-11.199999999999976\titer:600\twrong_count:2\n",
      "w:[ 7.84 -9.67]\tb:-11.299999999999976\titer:610\twrong_count:2\n",
      "w:[ 7.95 -9.64]\tb:-11.399999999999975\titer:620\twrong_count:2\n",
      "w:[ 8.01 -9.68]\tb:-11.499999999999975\titer:630\twrong_count:2\n",
      "w:[ 8.12 -9.66]\tb:-11.599999999999975\titer:640\twrong_count:2\n",
      "w:[ 8.18 -9.7 ]\tb:-11.699999999999974\titer:650\twrong_count:2\n",
      "w:[ 7.75 -9.98]\tb:-11.899999999999974\titer:660\twrong_count:1\n",
      "w:[ 8.31 -9.72]\tb:-11.899999999999974\titer:670\twrong_count:2\n"
     ]
    }
   ],
   "source": [
    "perceptron = Percerptron(data)\n",
    "perceptron.fit(X, y)"
   ]
  },
  {
   "cell_type": "code",
   "execution_count": 44,
   "metadata": {},
   "outputs": [
    {
     "data": {
      "text/plain": [
       "<matplotlib.legend.Legend at 0x2773eb5fd88>"
      ]
     },
     "execution_count": 44,
     "metadata": {},
     "output_type": "execute_result"
    },
    {
     "data": {
      "image/png": "[encoded data removed]",
      "text/plain": [
       "<Figure size 720x720 with 1 Axes>"
      ]
     },
     "metadata": {
      "needs_background": "light"
     },
     "output_type": "display_data"
    }
   ],
   "source": [
    "x_points = np.linspace(4, 7, 10)\n",
    "y_ = -(perceptron.w[0] * x_points + perceptron.b) / perceptron.w[1]\n",
    "plt.figure(figsize=(10,10))\n",
    "plt.plot(x_points, y_)\n",
    "\n",
    "plt.plot(data[:50, 0], data[:50, 1], 'bo', color='blue', label='0')\n",
    "plt.plot(data[50:100, 0], data[50:100, 1], 'bo', color='orange', label='1')\n",
    "plt.xlabel('sepal length')\n",
    "plt.ylabel('sepal width')\n",
    "plt.legend()"
   ]
  },
  {
   "cell_type": "markdown",
   "metadata": {},
   "source": [
    "### scikit-learn实例"
   ]
  },
  {
   "cell_type": "code",
   "execution_count": 38,
   "metadata": {},
   "outputs": [],
   "source": [
    "import sklearn\n",
    "from sklearn.linear_model import Perceptron"
   ]
  },
  {
   "cell_type": "code",
   "execution_count": 39,
   "metadata": {},
   "outputs": [
    {
     "data": {
      "text/plain": [
       "'0.22.1'"
      ]
     },
     "execution_count": 39,
     "metadata": {},
     "output_type": "execute_result"
    }
   ],
   "source": [
    "sklearn.__version__"
   ]
  },
  {
   "cell_type": "code",
   "execution_count": 40,
   "metadata": {},
   "outputs": [
    {
     "data": {
      "text/plain": [
       "Perceptron(alpha=0.0001, class_weight=None, early_stopping=False, eta0=1.0,\n",
       "           fit_intercept=True, max_iter=1000, n_iter_no_change=5, n_jobs=None,\n",
       "           penalty=None, random_state=0, shuffle=True, tol=0.001,\n",
       "           validation_fraction=0.1, verbose=0, warm_start=False)"
      ]
     },
     "execution_count": 40,
     "metadata": {},
     "output_type": "execute_result"
    }
   ],
   "source": [
    "clf = Perceptron(fit_intercept=True, \n",
    "                 max_iter=1000, \n",
    "                 shuffle=True)\n",
    "clf.fit(X, y)"
   ]
  },
  {
   "cell_type": "code",
   "execution_count": 41,
   "metadata": {},
   "outputs": [
    {
     "name": "stdout",
     "output_type": "stream",
     "text": [
      "[[ 23.2 -38.7]]\n"
     ]
    }
   ],
   "source": [
    "# Weights assigned to the features.\n",
    "print(clf.coef_)"
   ]
  },
  {
   "cell_type": "code",
   "execution_count": 42,
   "metadata": {},
   "outputs": [
    {
     "data": {
      "text/plain": [
       "<matplotlib.legend.Legend at 0x2773eab0dc8>"
      ]
     },
     "execution_count": 42,
     "metadata": {},
     "output_type": "execute_result"
    },
    {
     "data": {
      "image/png": "[encoded data removed]",
      "text/plain": [
       "<Figure size 720x720 with 1 Axes>"
      ]
     },
     "metadata": {
      "needs_background": "light"
     },
     "output_type": "display_data"
    }
   ],
   "source": [
    "# 画布大小\n",
    "plt.figure(figsize=(10,10))\n",
    "\n",
    "# 中文标题\n",
    "plt.rcParams['font.sans-serif']=['SimHei']\n",
    "plt.rcParams['axes.unicode_minus'] = False\n",
    "plt.title('鸢尾花线性数据示例')\n",
    "\n",
    "plt.scatter(data[:50, 0], data[:50, 1], c='b', label='Iris-setosa',)\n",
    "plt.scatter(data[50:100, 0], data[50:100, 1], c='orange', label='Iris-versicolor')\n",
    "\n",
    "# 画感知机的线\n",
    "x_ponits = np.arange(4, 8)\n",
    "y_ = -(clf.coef_[0][0]*x_ponits + clf.intercept_)/clf.coef_[0][1]\n",
    "plt.plot(x_ponits, y_)\n",
    "\n",
    "# 其他部分\n",
    "plt.legend()  # 显示图例\n",
    "plt.grid(False)  # 不显示网格\n",
    "plt.xlabel('sepal length')\n",
    "plt.ylabel('sepal width')\n",
    "plt.legend()"
   ]
  },
  {
   "cell_type": "markdown",
   "metadata": {},
   "source": [
    "**注意 !**\n",
    "\n",
    "在上图中，有一个位于左下角的蓝点没有被正确分类，这是因为 SKlearn 的 Perceptron 实例中有一个`tol`参数。\n",
    "\n",
    "`tol` 参数规定了如果本次迭代的损失和上次迭代的损失之差小于一个特定值时，停止迭代。所以我们需要设置 `tol=None` 使之可以继续迭代："
   ]
  },
  {
   "cell_type": "code",
   "execution_count": 43,
   "metadata": {},
   "outputs": [
    {
     "data": {
      "text/plain": [
       "<matplotlib.legend.Legend at 0x2773eb07248>"
      ]
     },
     "execution_count": 43,
     "metadata": {},
     "output_type": "execute_result"
    },
    {
     "data": {
      "image/png": "[encoded data removed]",
      "text/plain": [
       "<Figure size 720x720 with 1 Axes>"
      ]
     },
     "metadata": {
      "needs_background": "light"
     },
     "output_type": "display_data"
    }
   ],
   "source": [
    "clf = Perceptron(fit_intercept=True, \n",
    "                 max_iter=1000,\n",
    "                 tol=None,\n",
    "                 shuffle=True)\n",
    "clf.fit(X, y)\n",
    "\n",
    "# 画布大小\n",
    "plt.figure(figsize=(10,10))\n",
    "\n",
    "# 中文标题\n",
    "plt.rcParams['font.sans-serif']=['SimHei']\n",
    "plt.rcParams['axes.unicode_minus'] = False\n",
    "plt.title('鸢尾花线性数据示例')\n",
    "\n",
    "plt.scatter(data[:50, 0], data[:50, 1], c='b', label='Iris-setosa',)\n",
    "plt.scatter(data[50:100, 0], data[50:100, 1], c='orange', label='Iris-versicolor')\n",
    "\n",
    "# 画感知机的线\n",
    "x_ponits = np.arange(4, 8)\n",
    "y_ = -(clf.coef_[0][0]*x_ponits + clf.intercept_)/clf.coef_[0][1]\n",
    "plt.plot(x_ponits, y_)\n",
    "\n",
    "# 其他部分\n",
    "plt.legend()  # 显示图例\n",
    "plt.grid(False)  # 不显示网格\n",
    "plt.xlabel('sepal length')\n",
    "plt.ylabel('sepal width')\n",
    "plt.legend()"
   ]
  },
  {
   "cell_type": "code",
   "execution_count": null,
   "metadata": {},
   "outputs": [],
   "source": []
  }
 ],
 "metadata": {
  "kernelspec": {
   "display_name": "Python 3",
   "language": "python",
   "name": "python3"
  },
  "language_info": {
   "codemirror_mode": {
    "name": "ipython",
    "version": 3
   },
   "file_extension": ".py",
   "mimetype": "text/x-python",
   "name": "python",
   "nbconvert_exporter": "python",
   "pygments_lexer": "ipython3",
   "version": "3.7.6"
  }
 },
 "nbformat": 4,
 "nbformat_minor": 4
}
